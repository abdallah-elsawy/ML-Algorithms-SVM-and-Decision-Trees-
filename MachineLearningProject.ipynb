{
 "cells": [
  {
   "cell_type": "markdown",
   "id": "973561b1",
   "metadata": {},
   "source": [
    "# Machine Learning Algorithms ( Support Vector Machine and Decision trees )."
   ]
  },
  {
   "cell_type": "markdown",
   "id": "2416a210",
   "metadata": {},
   "source": [
    "### Importing the libraries"
   ]
  },
  {
   "cell_type": "code",
   "execution_count": 1,
   "id": "682d6345",
   "metadata": {},
   "outputs": [],
   "source": [
    "import numpy as np\n",
    "import pandas as pd\n",
    "import matplotlib.pyplot as plt\n",
    "import seaborn as sns\n",
    "from sklearn.svm import SVC\n",
    "from sklearn.preprocessing import StandardScaler\n",
    "from sklearn.model_selection import train_test_split\n",
    "from sklearn.metrics import accuracy_score\n",
    "from sklearn.tree import DecisionTreeClassifier\n",
    "from sklearn.metrics import confusion_matrix"
   ]
  },
  {
   "cell_type": "markdown",
   "id": "2dca6a69",
   "metadata": {},
   "source": [
    "### Importing the dataset"
   ]
  },
  {
   "cell_type": "code",
   "execution_count": 2,
   "id": "da114c62",
   "metadata": {},
   "outputs": [],
   "source": [
    "df = pd.read_csv('diagnose4.csv')"
   ]
  },
  {
   "cell_type": "code",
   "execution_count": 3,
   "id": "d2bb2662",
   "metadata": {},
   "outputs": [
    {
     "data": {
      "text/html": [
       "<div>\n",
       "<style scoped>\n",
       "    .dataframe tbody tr th:only-of-type {\n",
       "        vertical-align: middle;\n",
       "    }\n",
       "\n",
       "    .dataframe tbody tr th {\n",
       "        vertical-align: top;\n",
       "    }\n",
       "\n",
       "    .dataframe thead th {\n",
       "        text-align: right;\n",
       "    }\n",
       "</style>\n",
       "<table border=\"1\" class=\"dataframe\">\n",
       "  <thead>\n",
       "    <tr style=\"text-align: right;\">\n",
       "      <th></th>\n",
       "      <th>ID</th>\n",
       "      <th>Gender</th>\n",
       "      <th>Location</th>\n",
       "      <th>x1</th>\n",
       "      <th>x2</th>\n",
       "      <th>x3</th>\n",
       "      <th>x4</th>\n",
       "      <th>x5</th>\n",
       "      <th>x6</th>\n",
       "      <th>x7</th>\n",
       "      <th>x8</th>\n",
       "      <th>x9</th>\n",
       "      <th>x10</th>\n",
       "      <th>x11</th>\n",
       "      <th>Diagnosis</th>\n",
       "    </tr>\n",
       "  </thead>\n",
       "  <tbody>\n",
       "    <tr>\n",
       "      <th>0</th>\n",
       "      <td>0</td>\n",
       "      <td>Male</td>\n",
       "      <td>Dublin</td>\n",
       "      <td>119.781071</td>\n",
       "      <td>249.975623</td>\n",
       "      <td>12.213626</td>\n",
       "      <td>616.747483</td>\n",
       "      <td>-67.801441</td>\n",
       "      <td>2245.295350</td>\n",
       "      <td>-173.357067</td>\n",
       "      <td>NaN</td>\n",
       "      <td>247.422864</td>\n",
       "      <td>651.401330</td>\n",
       "      <td>-527.925560</td>\n",
       "      <td>0</td>\n",
       "    </tr>\n",
       "    <tr>\n",
       "      <th>1</th>\n",
       "      <td>1</td>\n",
       "      <td>Female</td>\n",
       "      <td>London</td>\n",
       "      <td>19.530750</td>\n",
       "      <td>134.721632</td>\n",
       "      <td>-6.651759</td>\n",
       "      <td>-1047.258296</td>\n",
       "      <td>403.349360</td>\n",
       "      <td>NaN</td>\n",
       "      <td>-56.120561</td>\n",
       "      <td>323.411436</td>\n",
       "      <td>2694.009119</td>\n",
       "      <td>766.443680</td>\n",
       "      <td>-313.190050</td>\n",
       "      <td>2</td>\n",
       "    </tr>\n",
       "    <tr>\n",
       "      <th>2</th>\n",
       "      <td>2</td>\n",
       "      <td>Female</td>\n",
       "      <td>NaN</td>\n",
       "      <td>21.260438</td>\n",
       "      <td>-532.933756</td>\n",
       "      <td>4.203863</td>\n",
       "      <td>-899.699109</td>\n",
       "      <td>-325.946321</td>\n",
       "      <td>964.039710</td>\n",
       "      <td>35.871435</td>\n",
       "      <td>873.701879</td>\n",
       "      <td>1158.964157</td>\n",
       "      <td>877.331952</td>\n",
       "      <td>-386.170945</td>\n",
       "      <td>0</td>\n",
       "    </tr>\n",
       "    <tr>\n",
       "      <th>3</th>\n",
       "      <td>3</td>\n",
       "      <td>Female</td>\n",
       "      <td>London</td>\n",
       "      <td>89.687882</td>\n",
       "      <td>-919.708815</td>\n",
       "      <td>0.274286</td>\n",
       "      <td>-2944.513415</td>\n",
       "      <td>175.185393</td>\n",
       "      <td>-753.952723</td>\n",
       "      <td>74.910322</td>\n",
       "      <td>328.956405</td>\n",
       "      <td>1363.735160</td>\n",
       "      <td>207.146672</td>\n",
       "      <td>NaN</td>\n",
       "      <td>2</td>\n",
       "    </tr>\n",
       "    <tr>\n",
       "      <th>4</th>\n",
       "      <td>4</td>\n",
       "      <td>NaN</td>\n",
       "      <td>Belfast</td>\n",
       "      <td>179.957287</td>\n",
       "      <td>717.183364</td>\n",
       "      <td>-12.874797</td>\n",
       "      <td>-3960.304794</td>\n",
       "      <td>-286.928998</td>\n",
       "      <td>-1888.159139</td>\n",
       "      <td>61.087417</td>\n",
       "      <td>424.554386</td>\n",
       "      <td>3898.100368</td>\n",
       "      <td>228.118640</td>\n",
       "      <td>-3.960441</td>\n",
       "      <td>2</td>\n",
       "    </tr>\n",
       "  </tbody>\n",
       "</table>\n",
       "</div>"
      ],
      "text/plain": [
       "   ID  Gender Location          x1          x2         x3           x4  \\\n",
       "0   0    Male   Dublin  119.781071  249.975623  12.213626   616.747483   \n",
       "1   1  Female   London   19.530750  134.721632  -6.651759 -1047.258296   \n",
       "2   2  Female      NaN   21.260438 -532.933756   4.203863  -899.699109   \n",
       "3   3  Female   London   89.687882 -919.708815   0.274286 -2944.513415   \n",
       "4   4     NaN  Belfast  179.957287  717.183364 -12.874797 -3960.304794   \n",
       "\n",
       "           x5           x6          x7          x8           x9         x10  \\\n",
       "0  -67.801441  2245.295350 -173.357067         NaN   247.422864  651.401330   \n",
       "1  403.349360          NaN  -56.120561  323.411436  2694.009119  766.443680   \n",
       "2 -325.946321   964.039710   35.871435  873.701879  1158.964157  877.331952   \n",
       "3  175.185393  -753.952723   74.910322  328.956405  1363.735160  207.146672   \n",
       "4 -286.928998 -1888.159139   61.087417  424.554386  3898.100368  228.118640   \n",
       "\n",
       "          x11  Diagnosis  \n",
       "0 -527.925560          0  \n",
       "1 -313.190050          2  \n",
       "2 -386.170945          0  \n",
       "3         NaN          2  \n",
       "4   -3.960441          2  "
      ]
     },
     "execution_count": 3,
     "metadata": {},
     "output_type": "execute_result"
    }
   ],
   "source": [
    "df.head()"
   ]
  },
  {
   "cell_type": "markdown",
   "id": "ea32d832",
   "metadata": {},
   "source": [
    "### Data Preprocessing"
   ]
  },
  {
   "cell_type": "code",
   "execution_count": 4,
   "id": "cbfc53e3",
   "metadata": {},
   "outputs": [
    {
     "name": "stdout",
     "output_type": "stream",
     "text": [
      "<class 'pandas.core.frame.DataFrame'>\n",
      "RangeIndex: 387 entries, 0 to 386\n",
      "Data columns (total 15 columns):\n",
      " #   Column     Non-Null Count  Dtype  \n",
      "---  ------     --------------  -----  \n",
      " 0   ID         387 non-null    int64  \n",
      " 1   Gender     386 non-null    object \n",
      " 2   Location   386 non-null    object \n",
      " 3   x1         386 non-null    float64\n",
      " 4   x2         387 non-null    float64\n",
      " 5   x3         386 non-null    float64\n",
      " 6   x4         387 non-null    float64\n",
      " 7   x5         387 non-null    float64\n",
      " 8   x6         385 non-null    float64\n",
      " 9   x7         387 non-null    float64\n",
      " 10  x8         386 non-null    float64\n",
      " 11  x9         386 non-null    float64\n",
      " 12  x10        387 non-null    float64\n",
      " 13  x11        386 non-null    float64\n",
      " 14  Diagnosis  387 non-null    int64  \n",
      "dtypes: float64(11), int64(2), object(2)\n",
      "memory usage: 45.5+ KB\n"
     ]
    }
   ],
   "source": [
    "df.info()"
   ]
  },
  {
   "cell_type": "code",
   "execution_count": 5,
   "id": "399a6701",
   "metadata": {},
   "outputs": [
    {
     "data": {
      "text/html": [
       "<div>\n",
       "<style scoped>\n",
       "    .dataframe tbody tr th:only-of-type {\n",
       "        vertical-align: middle;\n",
       "    }\n",
       "\n",
       "    .dataframe tbody tr th {\n",
       "        vertical-align: top;\n",
       "    }\n",
       "\n",
       "    .dataframe thead th {\n",
       "        text-align: right;\n",
       "    }\n",
       "</style>\n",
       "<table border=\"1\" class=\"dataframe\">\n",
       "  <thead>\n",
       "    <tr style=\"text-align: right;\">\n",
       "      <th></th>\n",
       "      <th>ID</th>\n",
       "      <th>x1</th>\n",
       "      <th>x2</th>\n",
       "      <th>x3</th>\n",
       "      <th>x4</th>\n",
       "      <th>x5</th>\n",
       "      <th>x6</th>\n",
       "      <th>x7</th>\n",
       "      <th>x8</th>\n",
       "      <th>x9</th>\n",
       "      <th>x10</th>\n",
       "      <th>x11</th>\n",
       "      <th>Diagnosis</th>\n",
       "    </tr>\n",
       "  </thead>\n",
       "  <tbody>\n",
       "    <tr>\n",
       "      <th>count</th>\n",
       "      <td>387.000000</td>\n",
       "      <td>386.000000</td>\n",
       "      <td>387.000000</td>\n",
       "      <td>386.000000</td>\n",
       "      <td>387.000000</td>\n",
       "      <td>387.000000</td>\n",
       "      <td>385.000000</td>\n",
       "      <td>387.000000</td>\n",
       "      <td>386.000000</td>\n",
       "      <td>386.000000</td>\n",
       "      <td>387.000000</td>\n",
       "      <td>386.000000</td>\n",
       "      <td>387.000000</td>\n",
       "    </tr>\n",
       "    <tr>\n",
       "      <th>mean</th>\n",
       "      <td>193.000000</td>\n",
       "      <td>4.558917</td>\n",
       "      <td>-135.075281</td>\n",
       "      <td>1.691165</td>\n",
       "      <td>-965.123825</td>\n",
       "      <td>6.023456</td>\n",
       "      <td>-11.073828</td>\n",
       "      <td>-12.998791</td>\n",
       "      <td>5.436705</td>\n",
       "      <td>617.733268</td>\n",
       "      <td>273.478284</td>\n",
       "      <td>15.774216</td>\n",
       "      <td>0.994832</td>\n",
       "    </tr>\n",
       "    <tr>\n",
       "      <th>std</th>\n",
       "      <td>111.861522</td>\n",
       "      <td>143.244603</td>\n",
       "      <td>941.910447</td>\n",
       "      <td>11.442658</td>\n",
       "      <td>2094.133191</td>\n",
       "      <td>303.625270</td>\n",
       "      <td>1752.957266</td>\n",
       "      <td>148.978073</td>\n",
       "      <td>583.204343</td>\n",
       "      <td>1439.397343</td>\n",
       "      <td>650.605008</td>\n",
       "      <td>565.881641</td>\n",
       "      <td>0.817537</td>\n",
       "    </tr>\n",
       "    <tr>\n",
       "      <th>min</th>\n",
       "      <td>0.000000</td>\n",
       "      <td>-408.555430</td>\n",
       "      <td>-2527.106474</td>\n",
       "      <td>-29.255353</td>\n",
       "      <td>-8579.708089</td>\n",
       "      <td>-862.038082</td>\n",
       "      <td>-5364.743520</td>\n",
       "      <td>-481.411085</td>\n",
       "      <td>-1537.879728</td>\n",
       "      <td>-3670.090485</td>\n",
       "      <td>-1920.603675</td>\n",
       "      <td>-1408.558100</td>\n",
       "      <td>0.000000</td>\n",
       "    </tr>\n",
       "    <tr>\n",
       "      <th>25%</th>\n",
       "      <td>96.500000</td>\n",
       "      <td>-88.812203</td>\n",
       "      <td>-886.712296</td>\n",
       "      <td>-5.588551</td>\n",
       "      <td>-2128.884273</td>\n",
       "      <td>-176.398292</td>\n",
       "      <td>-1236.870172</td>\n",
       "      <td>-117.853095</td>\n",
       "      <td>-385.835199</td>\n",
       "      <td>-419.534368</td>\n",
       "      <td>-89.718706</td>\n",
       "      <td>-380.991264</td>\n",
       "      <td>0.000000</td>\n",
       "    </tr>\n",
       "    <tr>\n",
       "      <th>50%</th>\n",
       "      <td>193.000000</td>\n",
       "      <td>11.064327</td>\n",
       "      <td>-36.085223</td>\n",
       "      <td>2.633369</td>\n",
       "      <td>-950.204162</td>\n",
       "      <td>21.704146</td>\n",
       "      <td>-195.986971</td>\n",
       "      <td>-6.600129</td>\n",
       "      <td>13.409822</td>\n",
       "      <td>752.490560</td>\n",
       "      <td>357.336728</td>\n",
       "      <td>54.229708</td>\n",
       "      <td>1.000000</td>\n",
       "    </tr>\n",
       "    <tr>\n",
       "      <th>75%</th>\n",
       "      <td>289.500000</td>\n",
       "      <td>103.796505</td>\n",
       "      <td>554.705084</td>\n",
       "      <td>9.570294</td>\n",
       "      <td>319.288943</td>\n",
       "      <td>211.762825</td>\n",
       "      <td>1167.590425</td>\n",
       "      <td>79.842394</td>\n",
       "      <td>424.098472</td>\n",
       "      <td>1583.655809</td>\n",
       "      <td>700.359853</td>\n",
       "      <td>402.302187</td>\n",
       "      <td>2.000000</td>\n",
       "    </tr>\n",
       "    <tr>\n",
       "      <th>max</th>\n",
       "      <td>386.000000</td>\n",
       "      <td>430.277110</td>\n",
       "      <td>2239.062538</td>\n",
       "      <td>40.891061</td>\n",
       "      <td>5589.189837</td>\n",
       "      <td>852.725612</td>\n",
       "      <td>6113.692714</td>\n",
       "      <td>508.614533</td>\n",
       "      <td>1324.854926</td>\n",
       "      <td>4264.831638</td>\n",
       "      <td>1820.457605</td>\n",
       "      <td>1713.494778</td>\n",
       "      <td>2.000000</td>\n",
       "    </tr>\n",
       "  </tbody>\n",
       "</table>\n",
       "</div>"
      ],
      "text/plain": [
       "               ID          x1           x2          x3           x4  \\\n",
       "count  387.000000  386.000000   387.000000  386.000000   387.000000   \n",
       "mean   193.000000    4.558917  -135.075281    1.691165  -965.123825   \n",
       "std    111.861522  143.244603   941.910447   11.442658  2094.133191   \n",
       "min      0.000000 -408.555430 -2527.106474  -29.255353 -8579.708089   \n",
       "25%     96.500000  -88.812203  -886.712296   -5.588551 -2128.884273   \n",
       "50%    193.000000   11.064327   -36.085223    2.633369  -950.204162   \n",
       "75%    289.500000  103.796505   554.705084    9.570294   319.288943   \n",
       "max    386.000000  430.277110  2239.062538   40.891061  5589.189837   \n",
       "\n",
       "               x5           x6          x7           x8           x9  \\\n",
       "count  387.000000   385.000000  387.000000   386.000000   386.000000   \n",
       "mean     6.023456   -11.073828  -12.998791     5.436705   617.733268   \n",
       "std    303.625270  1752.957266  148.978073   583.204343  1439.397343   \n",
       "min   -862.038082 -5364.743520 -481.411085 -1537.879728 -3670.090485   \n",
       "25%   -176.398292 -1236.870172 -117.853095  -385.835199  -419.534368   \n",
       "50%     21.704146  -195.986971   -6.600129    13.409822   752.490560   \n",
       "75%    211.762825  1167.590425   79.842394   424.098472  1583.655809   \n",
       "max    852.725612  6113.692714  508.614533  1324.854926  4264.831638   \n",
       "\n",
       "               x10          x11   Diagnosis  \n",
       "count   387.000000   386.000000  387.000000  \n",
       "mean    273.478284    15.774216    0.994832  \n",
       "std     650.605008   565.881641    0.817537  \n",
       "min   -1920.603675 -1408.558100    0.000000  \n",
       "25%     -89.718706  -380.991264    0.000000  \n",
       "50%     357.336728    54.229708    1.000000  \n",
       "75%     700.359853   402.302187    2.000000  \n",
       "max    1820.457605  1713.494778    2.000000  "
      ]
     },
     "execution_count": 5,
     "metadata": {},
     "output_type": "execute_result"
    }
   ],
   "source": [
    "df.describe()"
   ]
  },
  {
   "cell_type": "code",
   "execution_count": 6,
   "id": "314a25a2",
   "metadata": {},
   "outputs": [
    {
     "data": {
      "text/plain": [
       "(387, 15)"
      ]
     },
     "execution_count": 6,
     "metadata": {},
     "output_type": "execute_result"
    }
   ],
   "source": [
    "df.shape"
   ]
  },
  {
   "cell_type": "code",
   "execution_count": 7,
   "id": "8eaf0797",
   "metadata": {},
   "outputs": [
    {
     "data": {
      "text/plain": [
       "ID             int64\n",
       "Gender        object\n",
       "Location      object\n",
       "x1           float64\n",
       "x2           float64\n",
       "x3           float64\n",
       "x4           float64\n",
       "x5           float64\n",
       "x6           float64\n",
       "x7           float64\n",
       "x8           float64\n",
       "x9           float64\n",
       "x10          float64\n",
       "x11          float64\n",
       "Diagnosis      int64\n",
       "dtype: object"
      ]
     },
     "execution_count": 7,
     "metadata": {},
     "output_type": "execute_result"
    }
   ],
   "source": [
    "df.dtypes"
   ]
  },
  {
   "cell_type": "code",
   "execution_count": 8,
   "id": "cfd5b25f",
   "metadata": {},
   "outputs": [
    {
     "data": {
      "text/html": [
       "<div>\n",
       "<style scoped>\n",
       "    .dataframe tbody tr th:only-of-type {\n",
       "        vertical-align: middle;\n",
       "    }\n",
       "\n",
       "    .dataframe tbody tr th {\n",
       "        vertical-align: top;\n",
       "    }\n",
       "\n",
       "    .dataframe thead th {\n",
       "        text-align: right;\n",
       "    }\n",
       "</style>\n",
       "<table border=\"1\" class=\"dataframe\">\n",
       "  <thead>\n",
       "    <tr style=\"text-align: right;\">\n",
       "      <th></th>\n",
       "      <th>Count</th>\n",
       "    </tr>\n",
       "  </thead>\n",
       "  <tbody>\n",
       "    <tr>\n",
       "      <th>ID</th>\n",
       "      <td>387</td>\n",
       "    </tr>\n",
       "    <tr>\n",
       "      <th>Gender</th>\n",
       "      <td>2</td>\n",
       "    </tr>\n",
       "    <tr>\n",
       "      <th>Location</th>\n",
       "      <td>3</td>\n",
       "    </tr>\n",
       "    <tr>\n",
       "      <th>x1</th>\n",
       "      <td>386</td>\n",
       "    </tr>\n",
       "    <tr>\n",
       "      <th>x2</th>\n",
       "      <td>387</td>\n",
       "    </tr>\n",
       "    <tr>\n",
       "      <th>x3</th>\n",
       "      <td>386</td>\n",
       "    </tr>\n",
       "    <tr>\n",
       "      <th>x4</th>\n",
       "      <td>387</td>\n",
       "    </tr>\n",
       "    <tr>\n",
       "      <th>x5</th>\n",
       "      <td>387</td>\n",
       "    </tr>\n",
       "    <tr>\n",
       "      <th>x6</th>\n",
       "      <td>385</td>\n",
       "    </tr>\n",
       "    <tr>\n",
       "      <th>x7</th>\n",
       "      <td>387</td>\n",
       "    </tr>\n",
       "    <tr>\n",
       "      <th>x8</th>\n",
       "      <td>386</td>\n",
       "    </tr>\n",
       "    <tr>\n",
       "      <th>x9</th>\n",
       "      <td>386</td>\n",
       "    </tr>\n",
       "    <tr>\n",
       "      <th>x10</th>\n",
       "      <td>387</td>\n",
       "    </tr>\n",
       "    <tr>\n",
       "      <th>x11</th>\n",
       "      <td>386</td>\n",
       "    </tr>\n",
       "    <tr>\n",
       "      <th>Diagnosis</th>\n",
       "      <td>3</td>\n",
       "    </tr>\n",
       "  </tbody>\n",
       "</table>\n",
       "</div>"
      ],
      "text/plain": [
       "           Count\n",
       "ID           387\n",
       "Gender         2\n",
       "Location       3\n",
       "x1           386\n",
       "x2           387\n",
       "x3           386\n",
       "x4           387\n",
       "x5           387\n",
       "x6           385\n",
       "x7           387\n",
       "x8           386\n",
       "x9           386\n",
       "x10          387\n",
       "x11          386\n",
       "Diagnosis      3"
      ]
     },
     "execution_count": 8,
     "metadata": {},
     "output_type": "execute_result"
    }
   ],
   "source": [
    "df.nunique().to_frame().rename(columns={0:'Count'})"
   ]
  },
  {
   "cell_type": "code",
   "execution_count": 9,
   "id": "b0dcf8ac",
   "metadata": {},
   "outputs": [
    {
     "data": {
      "text/plain": [
       "0    130\n",
       "1    129\n",
       "2    128\n",
       "Name: Diagnosis, dtype: int64"
      ]
     },
     "execution_count": 9,
     "metadata": {},
     "output_type": "execute_result"
    }
   ],
   "source": [
    "df.Diagnosis.value_counts()"
   ]
  },
  {
   "cell_type": "code",
   "execution_count": 10,
   "id": "20cd2139",
   "metadata": {},
   "outputs": [
    {
     "data": {
      "image/png": "[encoded data removed]",
      "text/plain": [
       "<Figure size 432x288 with 1 Axes>"
      ]
     },
     "metadata": {
      "needs_background": "light"
     },
     "output_type": "display_data"
    }
   ],
   "source": [
    "sns.countplot(x=\"Diagnosis\", data=df)\n",
    "plt.show()"
   ]
  },
  {
   "cell_type": "code",
   "execution_count": 11,
   "id": "db356892",
   "metadata": {},
   "outputs": [
    {
     "data": {
      "image/png": "[encoded data removed]",
      "text/plain": [
       "<Figure size 432x288 with 1 Axes>"
      ]
     },
     "metadata": {
      "needs_background": "light"
     },
     "output_type": "display_data"
    }
   ],
   "source": [
    "sns.countplot(x='Gender', data=df, palette=\"mako_r\")\n",
    "plt.xlabel(\"Gender\")\n",
    "plt.show()"
   ]
  },
  {
   "cell_type": "code",
   "execution_count": 12,
   "id": "a999184d",
   "metadata": {},
   "outputs": [
    {
     "data": {
      "image/png": "[encoded data removed]",
      "text/plain": [
       "<Figure size 1440x432 with 1 Axes>"
      ]
     },
     "metadata": {
      "needs_background": "light"
     },
     "output_type": "display_data"
    }
   ],
   "source": [
    "pd.crosstab(df.Location,df.Diagnosis).plot(kind=\"bar\",figsize=(20,6))\n",
    "plt.title('Disease Frequency for Location')\n",
    "plt.xlabel('Location')\n",
    "plt.ylabel('Frequency')\n",
    "plt.show()"
   ]
  },
  {
   "cell_type": "code",
   "execution_count": 13,
   "id": "a424b457",
   "metadata": {},
   "outputs": [
    {
     "data": {
      "text/plain": [
       "(13.5, -0.5)"
      ]
     },
     "execution_count": 13,
     "metadata": {},
     "output_type": "execute_result"
    },
    {
     "data": {
      "image/png": "[encoded data removed]",
      "text/plain": [
       "<Figure size 1080x1080 with 2 Axes>"
      ]
     },
     "metadata": {
      "needs_background": "light"
     },
     "output_type": "display_data"
    }
   ],
   "source": [
    "corr_matrix = df.corr()\n",
    "fig, ax = plt.subplots(figsize=(15, 15))\n",
    "ax = sns.heatmap(corr_matrix,\n",
    "                 annot=True,\n",
    "                 linewidths=0.5,\n",
    "                 fmt=\".2f\",\n",
    "                 cmap=\"YlGnBu\");\n",
    "bottom, top = ax.get_ylim()\n",
    "ax.set_ylim(bottom + 0.5, top - 0.5)"
   ]
  },
  {
   "cell_type": "markdown",
   "id": "9ca749dc",
   "metadata": {},
   "source": [
    "### Data Cleaning"
   ]
  },
  {
   "cell_type": "code",
   "execution_count": 14,
   "id": "6aad48b1",
   "metadata": {},
   "outputs": [
    {
     "data": {
      "text/plain": [
       "0"
      ]
     },
     "execution_count": 14,
     "metadata": {},
     "output_type": "execute_result"
    }
   ],
   "source": [
    "df.duplicated().sum()"
   ]
  },
  {
   "cell_type": "code",
   "execution_count": 15,
   "id": "9108297d",
   "metadata": {},
   "outputs": [
    {
     "data": {
      "text/plain": [
       "ID           0\n",
       "Gender       1\n",
       "Location     1\n",
       "x1           1\n",
       "x2           0\n",
       "x3           1\n",
       "x4           0\n",
       "x5           0\n",
       "x6           2\n",
       "x7           0\n",
       "x8           1\n",
       "x9           1\n",
       "x10          0\n",
       "x11          1\n",
       "Diagnosis    0\n",
       "dtype: int64"
      ]
     },
     "execution_count": 15,
     "metadata": {},
     "output_type": "execute_result"
    }
   ],
   "source": [
    "df.isna().sum()"
   ]
  },
  {
   "cell_type": "code",
   "execution_count": 16,
   "id": "4f23a6be",
   "metadata": {},
   "outputs": [],
   "source": [
    "df.dropna(how=\"any\", inplace=True)"
   ]
  },
  {
   "cell_type": "code",
   "execution_count": 17,
   "id": "5d5f036d",
   "metadata": {},
   "outputs": [
    {
     "data": {
      "text/plain": [
       "ID           0\n",
       "Gender       0\n",
       "Location     0\n",
       "x1           0\n",
       "x2           0\n",
       "x3           0\n",
       "x4           0\n",
       "x5           0\n",
       "x6           0\n",
       "x7           0\n",
       "x8           0\n",
       "x9           0\n",
       "x10          0\n",
       "x11          0\n",
       "Diagnosis    0\n",
       "dtype: int64"
      ]
     },
     "execution_count": 17,
     "metadata": {},
     "output_type": "execute_result"
    }
   ],
   "source": [
    "df.isna().sum()"
   ]
  },
  {
   "cell_type": "code",
   "execution_count": 18,
   "id": "2e5f9cba",
   "metadata": {},
   "outputs": [
    {
     "data": {
      "text/plain": [
       "London     257\n",
       "Dublin      63\n",
       "Belfast     59\n",
       "Name: Location, dtype: int64"
      ]
     },
     "execution_count": 18,
     "metadata": {},
     "output_type": "execute_result"
    }
   ],
   "source": [
    "df.Location.value_counts()"
   ]
  },
  {
   "cell_type": "code",
   "execution_count": 19,
   "id": "0876f140",
   "metadata": {},
   "outputs": [
    {
     "data": {
      "text/html": [
       "<div>\n",
       "<style scoped>\n",
       "    .dataframe tbody tr th:only-of-type {\n",
       "        vertical-align: middle;\n",
       "    }\n",
       "\n",
       "    .dataframe tbody tr th {\n",
       "        vertical-align: top;\n",
       "    }\n",
       "\n",
       "    .dataframe thead th {\n",
       "        text-align: right;\n",
       "    }\n",
       "</style>\n",
       "<table border=\"1\" class=\"dataframe\">\n",
       "  <thead>\n",
       "    <tr style=\"text-align: right;\">\n",
       "      <th></th>\n",
       "      <th>ID</th>\n",
       "      <th>Gender</th>\n",
       "      <th>Location</th>\n",
       "      <th>x1</th>\n",
       "      <th>x2</th>\n",
       "      <th>x3</th>\n",
       "      <th>x4</th>\n",
       "      <th>x5</th>\n",
       "      <th>x6</th>\n",
       "      <th>x7</th>\n",
       "      <th>x8</th>\n",
       "      <th>x9</th>\n",
       "      <th>x10</th>\n",
       "      <th>x11</th>\n",
       "      <th>Diagnosis</th>\n",
       "    </tr>\n",
       "  </thead>\n",
       "  <tbody>\n",
       "    <tr>\n",
       "      <th>5</th>\n",
       "      <td>5</td>\n",
       "      <td>1</td>\n",
       "      <td>2</td>\n",
       "      <td>-40.250536</td>\n",
       "      <td>688.074756</td>\n",
       "      <td>13.985973</td>\n",
       "      <td>-1000.794322</td>\n",
       "      <td>-176.171530</td>\n",
       "      <td>-1039.329766</td>\n",
       "      <td>21.381157</td>\n",
       "      <td>-497.412941</td>\n",
       "      <td>671.489974</td>\n",
       "      <td>-265.622205</td>\n",
       "      <td>157.804045</td>\n",
       "      <td>2</td>\n",
       "    </tr>\n",
       "    <tr>\n",
       "      <th>6</th>\n",
       "      <td>6</td>\n",
       "      <td>0</td>\n",
       "      <td>2</td>\n",
       "      <td>98.553633</td>\n",
       "      <td>-1458.815047</td>\n",
       "      <td>4.990672</td>\n",
       "      <td>-1295.525892</td>\n",
       "      <td>-9.846346</td>\n",
       "      <td>-1475.666393</td>\n",
       "      <td>-82.492002</td>\n",
       "      <td>53.498509</td>\n",
       "      <td>-525.899306</td>\n",
       "      <td>-380.751208</td>\n",
       "      <td>-72.314232</td>\n",
       "      <td>2</td>\n",
       "    </tr>\n",
       "    <tr>\n",
       "      <th>7</th>\n",
       "      <td>7</td>\n",
       "      <td>1</td>\n",
       "      <td>2</td>\n",
       "      <td>130.639598</td>\n",
       "      <td>1358.680533</td>\n",
       "      <td>-8.120450</td>\n",
       "      <td>2999.294691</td>\n",
       "      <td>-161.671149</td>\n",
       "      <td>1456.619707</td>\n",
       "      <td>-222.862513</td>\n",
       "      <td>822.473924</td>\n",
       "      <td>-1473.772394</td>\n",
       "      <td>-212.317603</td>\n",
       "      <td>-144.468359</td>\n",
       "      <td>1</td>\n",
       "    </tr>\n",
       "    <tr>\n",
       "      <th>9</th>\n",
       "      <td>9</td>\n",
       "      <td>0</td>\n",
       "      <td>4</td>\n",
       "      <td>-132.648613</td>\n",
       "      <td>-261.892497</td>\n",
       "      <td>-7.564280</td>\n",
       "      <td>-2260.440299</td>\n",
       "      <td>-165.610207</td>\n",
       "      <td>-1610.628408</td>\n",
       "      <td>73.261390</td>\n",
       "      <td>312.862149</td>\n",
       "      <td>241.479611</td>\n",
       "      <td>662.017397</td>\n",
       "      <td>591.210536</td>\n",
       "      <td>2</td>\n",
       "    </tr>\n",
       "    <tr>\n",
       "      <th>11</th>\n",
       "      <td>11</td>\n",
       "      <td>1</td>\n",
       "      <td>2</td>\n",
       "      <td>259.703093</td>\n",
       "      <td>211.726758</td>\n",
       "      <td>30.731727</td>\n",
       "      <td>-5377.323632</td>\n",
       "      <td>72.776292</td>\n",
       "      <td>2104.988665</td>\n",
       "      <td>-43.600525</td>\n",
       "      <td>338.018611</td>\n",
       "      <td>1247.773560</td>\n",
       "      <td>1408.711507</td>\n",
       "      <td>-364.822412</td>\n",
       "      <td>0</td>\n",
       "    </tr>\n",
       "    <tr>\n",
       "      <th>...</th>\n",
       "      <td>...</td>\n",
       "      <td>...</td>\n",
       "      <td>...</td>\n",
       "      <td>...</td>\n",
       "      <td>...</td>\n",
       "      <td>...</td>\n",
       "      <td>...</td>\n",
       "      <td>...</td>\n",
       "      <td>...</td>\n",
       "      <td>...</td>\n",
       "      <td>...</td>\n",
       "      <td>...</td>\n",
       "      <td>...</td>\n",
       "      <td>...</td>\n",
       "      <td>...</td>\n",
       "    </tr>\n",
       "    <tr>\n",
       "      <th>382</th>\n",
       "      <td>382</td>\n",
       "      <td>0</td>\n",
       "      <td>3</td>\n",
       "      <td>-194.055391</td>\n",
       "      <td>-500.652429</td>\n",
       "      <td>15.999716</td>\n",
       "      <td>-1468.684650</td>\n",
       "      <td>-57.355126</td>\n",
       "      <td>1203.019068</td>\n",
       "      <td>378.095148</td>\n",
       "      <td>-798.540093</td>\n",
       "      <td>2212.617287</td>\n",
       "      <td>213.316224</td>\n",
       "      <td>148.577793</td>\n",
       "      <td>1</td>\n",
       "    </tr>\n",
       "    <tr>\n",
       "      <th>383</th>\n",
       "      <td>383</td>\n",
       "      <td>1</td>\n",
       "      <td>2</td>\n",
       "      <td>-270.626396</td>\n",
       "      <td>919.896384</td>\n",
       "      <td>6.712769</td>\n",
       "      <td>-1847.339710</td>\n",
       "      <td>133.201595</td>\n",
       "      <td>-1178.736989</td>\n",
       "      <td>103.235299</td>\n",
       "      <td>102.494970</td>\n",
       "      <td>632.083495</td>\n",
       "      <td>-469.514914</td>\n",
       "      <td>-250.137753</td>\n",
       "      <td>2</td>\n",
       "    </tr>\n",
       "    <tr>\n",
       "      <th>384</th>\n",
       "      <td>384</td>\n",
       "      <td>0</td>\n",
       "      <td>2</td>\n",
       "      <td>-11.262874</td>\n",
       "      <td>-2173.372192</td>\n",
       "      <td>5.798158</td>\n",
       "      <td>-2925.305358</td>\n",
       "      <td>-459.414527</td>\n",
       "      <td>-1290.160664</td>\n",
       "      <td>24.286726</td>\n",
       "      <td>424.701100</td>\n",
       "      <td>874.014093</td>\n",
       "      <td>-291.380199</td>\n",
       "      <td>-387.057984</td>\n",
       "      <td>2</td>\n",
       "    </tr>\n",
       "    <tr>\n",
       "      <th>385</th>\n",
       "      <td>385</td>\n",
       "      <td>1</td>\n",
       "      <td>3</td>\n",
       "      <td>-89.119059</td>\n",
       "      <td>-60.531635</td>\n",
       "      <td>12.174778</td>\n",
       "      <td>2259.782220</td>\n",
       "      <td>249.382348</td>\n",
       "      <td>6113.692714</td>\n",
       "      <td>-84.651547</td>\n",
       "      <td>-236.258652</td>\n",
       "      <td>1296.626212</td>\n",
       "      <td>469.936538</td>\n",
       "      <td>-183.924858</td>\n",
       "      <td>0</td>\n",
       "    </tr>\n",
       "    <tr>\n",
       "      <th>386</th>\n",
       "      <td>386</td>\n",
       "      <td>1</td>\n",
       "      <td>4</td>\n",
       "      <td>-84.978968</td>\n",
       "      <td>1098.339671</td>\n",
       "      <td>24.032667</td>\n",
       "      <td>-6023.576535</td>\n",
       "      <td>240.205391</td>\n",
       "      <td>831.390067</td>\n",
       "      <td>-283.810523</td>\n",
       "      <td>-474.436469</td>\n",
       "      <td>2459.947035</td>\n",
       "      <td>1265.657245</td>\n",
       "      <td>-41.543536</td>\n",
       "      <td>0</td>\n",
       "    </tr>\n",
       "  </tbody>\n",
       "</table>\n",
       "<p>379 rows × 15 columns</p>\n",
       "</div>"
      ],
      "text/plain": [
       "      ID Gender Location          x1           x2         x3           x4  \\\n",
       "5      5      1        2  -40.250536   688.074756  13.985973 -1000.794322   \n",
       "6      6      0        2   98.553633 -1458.815047   4.990672 -1295.525892   \n",
       "7      7      1        2  130.639598  1358.680533  -8.120450  2999.294691   \n",
       "9      9      0        4 -132.648613  -261.892497  -7.564280 -2260.440299   \n",
       "11    11      1        2  259.703093   211.726758  30.731727 -5377.323632   \n",
       "..   ...    ...      ...         ...          ...        ...          ...   \n",
       "382  382      0        3 -194.055391  -500.652429  15.999716 -1468.684650   \n",
       "383  383      1        2 -270.626396   919.896384   6.712769 -1847.339710   \n",
       "384  384      0        2  -11.262874 -2173.372192   5.798158 -2925.305358   \n",
       "385  385      1        3  -89.119059   -60.531635  12.174778  2259.782220   \n",
       "386  386      1        4  -84.978968  1098.339671  24.032667 -6023.576535   \n",
       "\n",
       "             x5           x6          x7          x8           x9  \\\n",
       "5   -176.171530 -1039.329766   21.381157 -497.412941   671.489974   \n",
       "6     -9.846346 -1475.666393  -82.492002   53.498509  -525.899306   \n",
       "7   -161.671149  1456.619707 -222.862513  822.473924 -1473.772394   \n",
       "9   -165.610207 -1610.628408   73.261390  312.862149   241.479611   \n",
       "11    72.776292  2104.988665  -43.600525  338.018611  1247.773560   \n",
       "..          ...          ...         ...         ...          ...   \n",
       "382  -57.355126  1203.019068  378.095148 -798.540093  2212.617287   \n",
       "383  133.201595 -1178.736989  103.235299  102.494970   632.083495   \n",
       "384 -459.414527 -1290.160664   24.286726  424.701100   874.014093   \n",
       "385  249.382348  6113.692714  -84.651547 -236.258652  1296.626212   \n",
       "386  240.205391   831.390067 -283.810523 -474.436469  2459.947035   \n",
       "\n",
       "             x10         x11  Diagnosis  \n",
       "5    -265.622205  157.804045          2  \n",
       "6    -380.751208  -72.314232          2  \n",
       "7    -212.317603 -144.468359          1  \n",
       "9     662.017397  591.210536          2  \n",
       "11   1408.711507 -364.822412          0  \n",
       "..           ...         ...        ...  \n",
       "382   213.316224  148.577793          1  \n",
       "383  -469.514914 -250.137753          2  \n",
       "384  -291.380199 -387.057984          2  \n",
       "385   469.936538 -183.924858          0  \n",
       "386  1265.657245  -41.543536          0  \n",
       "\n",
       "[379 rows x 15 columns]"
      ]
     },
     "execution_count": 19,
     "metadata": {},
     "output_type": "execute_result"
    }
   ],
   "source": [
    "df.replace(to_replace =\"Female\",value =\"0\", inplace=True)\n",
    "df.replace(to_replace =\"Male\",value =\"1\",   inplace=True)\n",
    "df.replace(to_replace =\"London\",value =\"2\",   inplace=True)\n",
    "df.replace(to_replace =\"Dublin\",value =\"3\",   inplace=True)\n",
    "df.replace(to_replace =\"Belfast\",value =\"4\",   inplace=True)\n",
    "\n",
    "df"
   ]
  },
  {
   "cell_type": "markdown",
   "id": "5ad5f568",
   "metadata": {},
   "source": [
    "## 1- Support Vector Machine (SVM)"
   ]
  },
  {
   "cell_type": "code",
   "execution_count": 20,
   "id": "87fc7d61",
   "metadata": {},
   "outputs": [],
   "source": [
    "y = df.Diagnosis.values\n",
    "X = df.drop(['Diagnosis'], axis = 1)"
   ]
  },
  {
   "cell_type": "code",
   "execution_count": 21,
   "id": "ba20951f",
   "metadata": {},
   "outputs": [],
   "source": [
    "X_train, X_test, y_train, y_test = train_test_split(X, y, test_size = 0.25, random_state = 0)"
   ]
  },
  {
   "cell_type": "markdown",
   "id": "f8480a0e",
   "metadata": {},
   "source": [
    "- Splitting the dataset into the Training set and Test set"
   ]
  },
  {
   "cell_type": "code",
   "execution_count": 22,
   "id": "9021a4db",
   "metadata": {},
   "outputs": [],
   "source": [
    "sc = StandardScaler()\n",
    "X_train = sc.fit_transform(X_train)\n",
    "X_test = sc.fit_transform(X_test)"
   ]
  },
  {
   "cell_type": "markdown",
   "id": "7d247bcd",
   "metadata": {},
   "source": [
    "- Feature Scaling"
   ]
  },
  {
   "cell_type": "code",
   "execution_count": 23,
   "id": "37df8bb3",
   "metadata": {},
   "outputs": [],
   "source": [
    "X_train = X_train.T\n",
    "y_train = y_train.T\n",
    "X_test = X_test.T\n",
    "y_test = y_test.T"
   ]
  },
  {
   "cell_type": "code",
   "execution_count": 24,
   "id": "821be56e",
   "metadata": {},
   "outputs": [
    {
     "name": "stdout",
     "output_type": "stream",
     "text": [
      "Test Accuracy of SVM Algorithm: 69.47%\n"
     ]
    }
   ],
   "source": [
    "svm = SVC(random_state = 1)\n",
    "svm.fit(X_train.T, y_train.T)\n",
    "\n",
    "acc = svm.score(X_test.T,y_test.T)*100\n",
    "\n",
    "accuracies = {}\n",
    "accuracies['SVM'] = acc\n",
    "\n",
    "print(\"Test Accuracy of SVM Algorithm: {:.2f}%\".format(acc))"
   ]
  },
  {
   "cell_type": "code",
   "execution_count": 25,
   "id": "6d51e763",
   "metadata": {},
   "outputs": [],
   "source": [
    "y_svm = svm.predict(X_test.T)"
   ]
  },
  {
   "cell_type": "code",
   "execution_count": 26,
   "id": "31d884e6",
   "metadata": {},
   "outputs": [],
   "source": [
    "cm = confusion_matrix(y_test, y_svm)"
   ]
  },
  {
   "cell_type": "code",
   "execution_count": 27,
   "id": "d527fab4",
   "metadata": {},
   "outputs": [
    {
     "data": {
      "text/plain": [
       "<AxesSubplot:title={'center':'Support Vector Machine Confusion Matrix'}>"
      ]
     },
     "execution_count": 27,
     "metadata": {},
     "output_type": "execute_result"
    },
    {
     "data": {
      "image/png": "[encoded data removed]",
      "text/plain": [
       "<Figure size 432x288 with 1 Axes>"
      ]
     },
     "metadata": {
      "needs_background": "light"
     },
     "output_type": "display_data"
    }
   ],
   "source": [
    "plt.title(\"Support Vector Machine Confusion Matrix\")\n",
    "sns.heatmap(cm,annot=True,cmap=\"Blues\",fmt=\"d\",cbar=False, annot_kws={\"size\": 24})"
   ]
  },
  {
   "cell_type": "markdown",
   "id": "27ca80a3",
   "metadata": {},
   "source": [
    "## 2- Decision Trees."
   ]
  },
  {
   "cell_type": "code",
   "execution_count": 28,
   "id": "8a2e879b",
   "metadata": {},
   "outputs": [
    {
     "name": "stdout",
     "output_type": "stream",
     "text": [
      "Decision Tree Test Accuracy 67.37%\n"
     ]
    }
   ],
   "source": [
    "dtc = DecisionTreeClassifier()\n",
    "dtc.fit(X_train.T, y_train.T)\n",
    "\n",
    "acc = dtc.score(X_test.T, y_test.T)*100\n",
    "accuracies['Decision Tree'] = acc\n",
    "print(\"Decision Tree Test Accuracy {:.2f}%\".format(acc))"
   ]
  },
  {
   "cell_type": "code",
   "execution_count": 29,
   "id": "c58e272b",
   "metadata": {},
   "outputs": [],
   "source": [
    "y_dtc = dtc.predict(X_test.T)"
   ]
  },
  {
   "cell_type": "code",
   "execution_count": 30,
   "id": "430a3005",
   "metadata": {},
   "outputs": [],
   "source": [
    "cm_dtc = confusion_matrix(y_test,y_dtc)"
   ]
  },
  {
   "cell_type": "code",
   "execution_count": 31,
   "id": "82ea0358",
   "metadata": {},
   "outputs": [
    {
     "data": {
      "text/plain": [
       "<AxesSubplot:title={'center':'Decision TreeConfusion Matrix'}>"
      ]
     },
     "execution_count": 31,
     "metadata": {},
     "output_type": "execute_result"
    },
    {
     "data": {
      "image/png": "[encoded data removed]",
      "text/plain": [
       "<Figure size 432x288 with 1 Axes>"
      ]
     },
     "metadata": {
      "needs_background": "light"
     },
     "output_type": "display_data"
    }
   ],
   "source": [
    "plt.title(\"Decision TreeConfusion Matrix\")\n",
    "sns.heatmap(cm_dtc,annot=True,cmap=\"Blues\",fmt=\"d\",cbar=False, annot_kws={\"size\": 24})"
   ]
  },
  {
   "cell_type": "code",
   "execution_count": 33,
   "id": "0ae298ed",
   "metadata": {},
   "outputs": [
    {
     "data": {
      "image/png": "[encoded data removed]",
      "text/plain": [
       "<Figure size 1152x360 with 1 Axes>"
      ]
     },
     "metadata": {
      "needs_background": "light"
     },
     "output_type": "display_data"
    }
   ],
   "source": [
    "plt.figure(figsize=(16,5))\n",
    "plt.yticks(np.arange(0,100,10))\n",
    "plt.ylabel(\"Accuracy %\")\n",
    "plt.xlabel(\"Models\")\n",
    "sns.barplot(x=list(accuracies.keys()), y=list(accuracies.values()))\n",
    "plt.show()"
   ]
  },
  {
   "cell_type": "markdown",
   "id": "7a51bc26",
   "metadata": {},
   "source": [
    "- Comparing Models"
   ]
  }
 ],
 "metadata": {
  "kernelspec": {
   "display_name": "Python 3",
   "language": "python",
   "name": "python3"
  },
  "language_info": {
   "codemirror_mode": {
    "name": "ipython",
    "version": 3
   },
   "file_extension": ".py",
   "mimetype": "text/x-python",
   "name": "python",
   "nbconvert_exporter": "python",
   "pygments_lexer": "ipython3",
   "version": "3.8.8"
  }
 },
 "nbformat": 4,
 "nbformat_minor": 5
}
